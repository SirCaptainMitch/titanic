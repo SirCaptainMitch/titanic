{
    "cells": [
        {
            "cell_type": "code",
            "execution_count": 1,
            "source": [
                "import sqlite3"
            ],
            "outputs": [],
            "metadata": {}
        },
        {
            "cell_type": "code",
            "execution_count": 12,
            "source": [
                "connection = sqlite3.connect('classroom.db')\r\n",
                "cursor = connection.cursor()\r\n",
                "# drop_table = \"DROP TABLE Classroom\"\r\n",
                "# cursor.execute(drop_table)\r\n",
                "create_table = \"\"\"\r\n",
                "CREATE TABLE Classroom(\r\n",
                "  student_id INTEGER PRIMARY KEY\r\n",
                " ,name VARCHAR(255)\r\n",
                " ,gender CHAR(1)\r\n",
                " ,physics_marks INT\r\n",
                " ,chemistry_marks INT\r\n",
                " ,mathematics_marks INT\r\n",
                " );\r\n",
                "\"\"\"\r\n",
                "cursor.execute(create_table)\r\n",
                "connection.commit()\r\n",
                "connection.close()"
            ],
            "outputs": [],
            "metadata": {}
        },
        {
            "cell_type": "code",
            "execution_count": 13,
            "source": [
                "classroom_data = [\r\n",
                "  ( 1, 'mitch', 'm', 2, 3, 4, 5)\r\n",
                "  ,( 2, 'aly', 'f', 21, 34, 49, 50)\r\n",
                "  ,( 3, 'cap', 'n', 22, 35, 48, 51)\r\n",
                "  ,( 4, 'ruby', 'f', 23, 36, 47, 52)\r\n",
                "]\r\n",
                "\r\n",
                "connection = sqlite3.connect('classroom.db')\r\n",
                "cursor = connection.cursor()\r\n",
                "\r\n",
                "for s in classroom_data: \r\n",
                "  insert_stmt = \"\"\"\r\n",
                "  INSERT INTO Classroom ( \r\n",
                "     student_id\r\n",
                "    ,name\r\n",
                "    ,gender\r\n",
                "    ,physics_marks\r\n",
                "    ,chemistry_marks\r\n",
                "    ,mathematics_marks\r\n",
                "  )\r\n",
                "  VALUES ( {id}, \"{name}\", \"{gender}\", {physics_marks}, {chemistry_marks}, {mathematics_marks})\r\n",
                "  \"\"\".format(\r\n",
                "     id=s[0]\r\n",
                "    ,name=s[1]\r\n",
                "    ,gender=s[2]\r\n",
                "    ,physics_marks=s[3]\r\n",
                "    ,chemistry_marks=s[4]\r\n",
                "    ,mathematics_marks=s[5]\r\n",
                "  )\r\n",
                "\r\n",
                "  cursor.execute(insert_stmt)\r\n",
                "\r\n",
                "connection.commit()\r\n",
                "connection.close()"
            ],
            "outputs": [],
            "metadata": {}
        },
        {
            "cell_type": "code",
            "execution_count": 14,
            "source": [
                "connection = sqlite3.connect('classroom.db')\r\n",
                "cursor = connection.cursor()\r\n",
                "\r\n",
                "select_stmt = \"SELECT * FROM Classroom;\"\r\n",
                "cursor.execute(select_stmt)\r\n",
                "result = cursor.fetchall()\r\n",
                "\r\n",
                "for row in result: \r\n",
                "  print(row)\r\n",
                "\r\n",
                "connection.close()\r\n"
            ],
            "outputs": [
                {
                    "output_type": "error",
                    "ename": "OperationalError",
                    "evalue": "no tables specified",
                    "traceback": [
                        "\u001b[1;31m---------------------------------------------------------------------------\u001b[0m",
                        "\u001b[1;31mOperationalError\u001b[0m                          Traceback (most recent call last)",
                        "\u001b[1;32m<ipython-input-14-b878e2502156>\u001b[0m in \u001b[0;36m<module>\u001b[1;34m\u001b[0m\n\u001b[0;32m      3\u001b[0m \u001b[1;33m\u001b[0m\u001b[0m\n\u001b[0;32m      4\u001b[0m \u001b[0mdrop_table\u001b[0m \u001b[1;33m=\u001b[0m \u001b[1;34m\"SELECT * \"\u001b[0m\u001b[1;33m\u001b[0m\u001b[1;33m\u001b[0m\u001b[0m\n\u001b[1;32m----> 5\u001b[1;33m \u001b[0mcursor\u001b[0m\u001b[1;33m.\u001b[0m\u001b[0mexecute\u001b[0m\u001b[1;33m(\u001b[0m\u001b[0mdrop_table\u001b[0m\u001b[1;33m)\u001b[0m\u001b[1;33m\u001b[0m\u001b[1;33m\u001b[0m\u001b[0m\n\u001b[0m",
                        "\u001b[1;31mOperationalError\u001b[0m: no tables specified"
                    ]
                }
            ],
            "metadata": {}
        },
        {
            "cell_type": "code",
            "execution_count": null,
            "source": [],
            "outputs": [],
            "metadata": {}
        }
    ],
    "metadata": {
        "orig_nbformat": 4,
        "language_info": {
            "name": "python",
            "version": "3.8.8",
            "mimetype": "text/x-python",
            "codemirror_mode": {
                "name": "ipython",
                "version": 3
            },
            "pygments_lexer": "ipython3",
            "nbconvert_exporter": "python",
            "file_extension": ".py"
        },
        "kernelspec": {
            "name": "python3",
            "display_name": "Python 3.8.8 64-bit ('base': conda)"
        },
        "interpreter": {
            "hash": "7818fc3e7527d85688afd34d7d560a00e004955bebfe57f2cfff6242146d1902"
        }
    },
    "nbformat": 4,
    "nbformat_minor": 2
}