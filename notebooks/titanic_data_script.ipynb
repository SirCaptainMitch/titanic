{
 "cells": [
  {
   "cell_type": "code",
   "execution_count": 11,
   "source": [
    "from dotenv import load_dotenv\r\n",
    "import os\r\n",
    "import json"
   ],
   "outputs": [],
   "metadata": {}
  },
  {
   "cell_type": "code",
   "execution_count": 12,
   "source": [
    "load_dotenv()"
   ],
   "outputs": [
    {
     "output_type": "execute_result",
     "data": {
      "text/plain": [
       "True"
      ]
     },
     "metadata": {},
     "execution_count": 12
    }
   ],
   "metadata": {}
  },
  {
   "cell_type": "code",
   "execution_count": 27,
   "source": [
    "raw_data_script_file = os.path.join(os.path.pardir,'src', 'data', 'get_raw_data.py')"
   ],
   "outputs": [],
   "metadata": {}
  },
  {
   "cell_type": "code",
   "execution_count": 28,
   "source": [
    "# Don't do this, it doesn't work because of the kaggle site moving to their own CLI. \r\n",
    "# Will create a different one when I make my own PoC \r\n",
    "# !python $raw_data_script_file"
   ],
   "outputs": [
    {
     "output_type": "stream",
     "name": "stderr",
     "text": [
      "2021-09-01 09:53:30,405 - __main__ - INFO - getting raw data\n",
      "2021-09-01 09:53:31,065 - __main__ - INFO - downloaded raw training and test data\n"
     ]
    }
   ],
   "metadata": {}
  },
  {
   "cell_type": "code",
   "execution_count": null,
   "source": [],
   "outputs": [],
   "metadata": {}
  }
 ],
 "metadata": {
  "orig_nbformat": 4,
  "language_info": {
   "name": "python",
   "version": "3.8.8",
   "mimetype": "text/x-python",
   "codemirror_mode": {
    "name": "ipython",
    "version": 3
   },
   "pygments_lexer": "ipython3",
   "nbconvert_exporter": "python",
   "file_extension": ".py"
  },
  "kernelspec": {
   "name": "python3",
   "display_name": "Python 3.8.8 64-bit ('base': conda)"
  },
  "interpreter": {
   "hash": "7818fc3e7527d85688afd34d7d560a00e004955bebfe57f2cfff6242146d1902"
  }
 },
 "nbformat": 4,
 "nbformat_minor": 2
}