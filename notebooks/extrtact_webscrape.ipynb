{
 "cells": [
  {
   "cell_type": "code",
   "execution_count": 3,
   "source": [
    "import requests as req \r\n",
    "from bs4 import BeautifulSoup as soup "
   ],
   "outputs": [],
   "metadata": {}
  },
  {
   "cell_type": "code",
   "execution_count": 4,
   "source": [
    "# HTML String\r\n",
    "html_string = \"\"\"\r\n",
    "<!doctype html>\r\n",
    "<html lang=\"en\">\r\n",
    "<head>\r\n",
    "  <title>Doing Data Science With Python</title>\r\n",
    "</head>\r\n",
    "<body>\r\n",
    "  <h1 style=\"color:#F15B2A;\">Doing Data Science With Python</h1>\r\n",
    "  <p id=\"author\">Author : Abhishek Kumar</p>\r\n",
    "  <p id=\"description\">This course will help you to perform various data science activities using python.</p>\r\n",
    "  \r\n",
    "  <h3 style=\"color:#404040\">Modules</h3>\r\n",
    "  <table id=\"module\" style=\"width:100%\">\r\n",
    "      <tr>\r\n",
    "        <th>Title</th>\r\n",
    "        <th>Duration (In Minutes)</th> \r\n",
    "      </tr>\r\n",
    "      <tr>\r\n",
    "        <td>Getting Started</td>\r\n",
    "        <td>20</td> \r\n",
    "      </tr>\r\n",
    "      <tr>\r\n",
    "        <td>Setting up the Environment</td>\r\n",
    "        <td>40</td> \r\n",
    "      </tr>\r\n",
    "      <tr>\r\n",
    "        <td>Extracting Data</td>\r\n",
    "        <td>35</td> \r\n",
    "      </tr>\r\n",
    "      <tr>\r\n",
    "        <td>Exploring and Processing Data - Part 1</td>\r\n",
    "        <td>45</td> \r\n",
    "      </tr>\r\n",
    "      <tr>\r\n",
    "        <td>Exploring and Processing Data - Part 2</td>\r\n",
    "        <td>45</td> \r\n",
    "      </tr>\r\n",
    "      <tr>\r\n",
    "        <td>Building Predictive Model</td>\r\n",
    "        <td>30</td> \r\n",
    "      </tr>\r\n",
    "  </table>\r\n",
    "</body>\r\n",
    "</html>\r\n",
    "\"\"\""
   ],
   "outputs": [],
   "metadata": {}
  },
  {
   "cell_type": "code",
   "execution_count": 5,
   "source": [
    "from IPython.core.display import display, HTML\r\n",
    "display(HTML(html_string))"
   ],
   "outputs": [
    {
     "output_type": "display_data",
     "data": {
      "text/plain": [
       "<IPython.core.display.HTML object>"
      ],
      "text/html": [
       "\n",
       "<!doctype html>\n",
       "<html lang=\"en\">\n",
       "<head>\n",
       "  <title>Doing Data Science With Python</title>\n",
       "</head>\n",
       "<body>\n",
       "  <h1 style=\"color:#F15B2A;\">Doing Data Science With Python</h1>\n",
       "  <p id=\"author\">Author : Abhishek Kumar</p>\n",
       "  <p id=\"description\">This course will help you to perform various data science activities using python.</p>\n",
       "  \n",
       "  <h3 style=\"color:#404040\">Modules</h3>\n",
       "  <table id=\"module\" style=\"width:100%\">\n",
       "      <tr>\n",
       "        <th>Title</th>\n",
       "        <th>Duration (In Minutes)</th> \n",
       "      </tr>\n",
       "      <tr>\n",
       "        <td>Getting Started</td>\n",
       "        <td>20</td> \n",
       "      </tr>\n",
       "      <tr>\n",
       "        <td>Setting up the Environment</td>\n",
       "        <td>40</td> \n",
       "      </tr>\n",
       "      <tr>\n",
       "        <td>Extracting Data</td>\n",
       "        <td>35</td> \n",
       "      </tr>\n",
       "      <tr>\n",
       "        <td>Exploring and Processing Data - Part 1</td>\n",
       "        <td>45</td> \n",
       "      </tr>\n",
       "      <tr>\n",
       "        <td>Exploring and Processing Data - Part 2</td>\n",
       "        <td>45</td> \n",
       "      </tr>\n",
       "      <tr>\n",
       "        <td>Building Predictive Model</td>\n",
       "        <td>30</td> \n",
       "      </tr>\n",
       "  </table>\n",
       "</body>\n",
       "</html>\n"
      ]
     },
     "metadata": {}
    }
   ],
   "metadata": {}
  },
  {
   "cell_type": "code",
   "execution_count": 6,
   "source": [
    "ps = soup(html_string)\r\n",
    "print(ps)"
   ],
   "outputs": [
    {
     "output_type": "stream",
     "name": "stdout",
     "text": [
      "<!DOCTYPE html>\n",
      "<html lang=\"en\">\n",
      "<head>\n",
      "<title>Doing Data Science With Python</title>\n",
      "</head>\n",
      "<body>\n",
      "<h1 style=\"color:#F15B2A;\">Doing Data Science With Python</h1>\n",
      "<p id=\"author\">Author : Abhishek Kumar</p>\n",
      "<p id=\"description\">This course will help you to perform various data science activities using python.</p>\n",
      "<h3 style=\"color:#404040\">Modules</h3>\n",
      "<table id=\"module\" style=\"width:100%\">\n",
      "<tr>\n",
      "<th>Title</th>\n",
      "<th>Duration (In Minutes)</th>\n",
      "</tr>\n",
      "<tr>\n",
      "<td>Getting Started</td>\n",
      "<td>20</td>\n",
      "</tr>\n",
      "<tr>\n",
      "<td>Setting up the Environment</td>\n",
      "<td>40</td>\n",
      "</tr>\n",
      "<tr>\n",
      "<td>Extracting Data</td>\n",
      "<td>35</td>\n",
      "</tr>\n",
      "<tr>\n",
      "<td>Exploring and Processing Data - Part 1</td>\n",
      "<td>45</td>\n",
      "</tr>\n",
      "<tr>\n",
      "<td>Exploring and Processing Data - Part 2</td>\n",
      "<td>45</td>\n",
      "</tr>\n",
      "<tr>\n",
      "<td>Building Predictive Model</td>\n",
      "<td>30</td>\n",
      "</tr>\n",
      "</table>\n",
      "</body>\n",
      "</html>\n",
      "\n"
     ]
    }
   ],
   "metadata": {}
  },
  {
   "cell_type": "code",
   "execution_count": 7,
   "source": [
    "body = ps.find(name=\"body\")"
   ],
   "outputs": [],
   "metadata": {}
  },
  {
   "cell_type": "code",
   "execution_count": 8,
   "source": [
    "print(body)"
   ],
   "outputs": [
    {
     "output_type": "stream",
     "name": "stdout",
     "text": [
      "<body>\n",
      "<h1 style=\"color:#F15B2A;\">Doing Data Science With Python</h1>\n",
      "<p id=\"author\">Author : Abhishek Kumar</p>\n",
      "<p id=\"description\">This course will help you to perform various data science activities using python.</p>\n",
      "<h3 style=\"color:#404040\">Modules</h3>\n",
      "<table id=\"module\" style=\"width:100%\">\n",
      "<tr>\n",
      "<th>Title</th>\n",
      "<th>Duration (In Minutes)</th>\n",
      "</tr>\n",
      "<tr>\n",
      "<td>Getting Started</td>\n",
      "<td>20</td>\n",
      "</tr>\n",
      "<tr>\n",
      "<td>Setting up the Environment</td>\n",
      "<td>40</td>\n",
      "</tr>\n",
      "<tr>\n",
      "<td>Extracting Data</td>\n",
      "<td>35</td>\n",
      "</tr>\n",
      "<tr>\n",
      "<td>Exploring and Processing Data - Part 1</td>\n",
      "<td>45</td>\n",
      "</tr>\n",
      "<tr>\n",
      "<td>Exploring and Processing Data - Part 2</td>\n",
      "<td>45</td>\n",
      "</tr>\n",
      "<tr>\n",
      "<td>Building Predictive Model</td>\n",
      "<td>30</td>\n",
      "</tr>\n",
      "</table>\n",
      "</body>\n"
     ]
    }
   ],
   "metadata": {}
  },
  {
   "cell_type": "code",
   "execution_count": 9,
   "source": [
    "print(body.find(name=\"h1\").text)"
   ],
   "outputs": [
    {
     "output_type": "stream",
     "name": "stdout",
     "text": [
      "Doing Data Science With Python\n"
     ]
    }
   ],
   "metadata": {}
  },
  {
   "cell_type": "code",
   "execution_count": 10,
   "source": [
    "print(body.find(name=\"p\"))"
   ],
   "outputs": [
    {
     "output_type": "stream",
     "name": "stdout",
     "text": [
      "<p id=\"author\">Author : Abhishek Kumar</p>\n"
     ]
    }
   ],
   "metadata": {}
  },
  {
   "cell_type": "code",
   "execution_count": 11,
   "source": [
    "print(body.findAll(name=\"p\"))"
   ],
   "outputs": [
    {
     "output_type": "stream",
     "name": "stdout",
     "text": [
      "[<p id=\"author\">Author : Abhishek Kumar</p>, <p id=\"description\">This course will help you to perform various data science activities using python.</p>]\n"
     ]
    }
   ],
   "metadata": {}
  },
  {
   "cell_type": "code",
   "execution_count": 12,
   "source": [
    "for p in body.findAll(name=\"p\"):\r\n",
    "    print(p.text)"
   ],
   "outputs": [
    {
     "output_type": "stream",
     "name": "stdout",
     "text": [
      "Author : Abhishek Kumar\n",
      "This course will help you to perform various data science activities using python.\n"
     ]
    }
   ],
   "metadata": {}
  },
  {
   "cell_type": "code",
   "execution_count": 13,
   "source": [
    "print(body.find(name='p', attrs={\"id\":\"author\"}))"
   ],
   "outputs": [
    {
     "output_type": "stream",
     "name": "stdout",
     "text": [
      "<p id=\"author\">Author : Abhishek Kumar</p>\n"
     ]
    }
   ],
   "metadata": {}
  },
  {
   "cell_type": "code",
   "execution_count": 14,
   "source": [
    "print(body.find(name='p', attrs={\"id\":\"description\"}))"
   ],
   "outputs": [
    {
     "output_type": "stream",
     "name": "stdout",
     "text": [
      "<p id=\"description\">This course will help you to perform various data science activities using python.</p>\n"
     ]
    }
   ],
   "metadata": {}
  },
  {
   "cell_type": "code",
   "execution_count": 15,
   "source": [
    "# body\r\n",
    "body = ps.find(name=\"body\")\r\n",
    "# module table\r\n",
    "module_table = body.find(name='table', attrs={\"id\": \"module\"})\r\n",
    "# iterate through each row in the table (skipping the first row)\r\n",
    "for row in module_table.findAll(name='tr')[1:]:\r\n",
    "    # module title\r\n",
    "    title = row.findAll(name='td')[0].text\r\n",
    "    # module duration\r\n",
    "    duration = int(row.findAll(name='td')[1].text)\r\n",
    "    print(title, duration)"
   ],
   "outputs": [
    {
     "output_type": "stream",
     "name": "stdout",
     "text": [
      "Getting Started 20\n",
      "Setting up the Environment 40\n",
      "Extracting Data 35\n",
      "Exploring and Processing Data - Part 1 45\n",
      "Exploring and Processing Data - Part 2 45\n",
      "Building Predictive Model 30\n"
     ]
    }
   ],
   "metadata": {}
  }
 ],
 "metadata": {
  "orig_nbformat": 4,
  "language_info": {
   "name": "python",
   "version": "3.8.8",
   "mimetype": "text/x-python",
   "codemirror_mode": {
    "name": "ipython",
    "version": 3
   },
   "pygments_lexer": "ipython3",
   "nbconvert_exporter": "python",
   "file_extension": ".py"
  },
  "kernelspec": {
   "name": "python3",
   "display_name": "Python 3.8.8 64-bit ('base': conda)"
  },
  "interpreter": {
   "hash": "7818fc3e7527d85688afd34d7d560a00e004955bebfe57f2cfff6242146d1902"
  }
 },
 "nbformat": 4,
 "nbformat_minor": 2
}